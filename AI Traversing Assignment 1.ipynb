{
 "cells": [
  {
   "cell_type": "code",
   "execution_count": 46,
   "metadata": {},
   "outputs": [],
   "source": [
    "graph = { \"51\" :set([\"3\", \"6\"]),\n",
    "          \"3\"  :set([\"6\", \"9\", \"51\"]),\n",
    "          \"9\"  :set([\"3\", \"8\"]),\n",
    "          \"6\"  :set([\"57\", '8' , '51','3']),\n",
    "          \"8\"  :set([\"42\", \"1\", \"9\", \"6\"]),\n",
    "          \"1\"  :set(['14', '8']),\n",
    "          \"14\" :set(['97', '1']),         \n",
    "          \"57\" :set(['6']),\n",
    "          \"97\" :set(['14']),\n",
    "          \"42\" :set(['8'])\n",
    "        }"
   ]
  },
  {
   "cell_type": "code",
   "execution_count": 11,
   "metadata": {},
   "outputs": [
    {
     "name": "stdout",
     "output_type": "stream",
     "text": [
      "[('6', '51'), ('3', '51'), ('6', '3'), ('9', '3'), ('51', '3'), ('8', '9'), ('3', '9'), ('57', '6'), ('8', '6'), ('51', '6'), ('3', '6'), ('6', '8'), ('9', '8'), ('1', '8'), ('42', '8'), ('8', '1'), ('14', '1'), ('97', '14'), ('1', '14'), ('6', '57'), ('14', '97'), ('8', '42')]\n"
     ]
    }
   ],
   "source": [
    "def generate_edges(graph):\n",
    "    nodes =[]\n",
    "    edges =[]\n",
    "    for node in graph:\n",
    "        for neighbour in graph[node]:\n",
    "            edges.append((neighbour, node))\n",
    "\n",
    "\n",
    "    return edges\n",
    "\n",
    "print(generate_edges(graph))\n"
   ]
  },
  {
   "cell_type": "code",
   "execution_count": 12,
   "metadata": {},
   "outputs": [],
   "source": [
    "x=generate_edges(graph)"
   ]
  },
  {
   "cell_type": "code",
   "execution_count": 16,
   "metadata": {},
   "outputs": [
    {
     "data": {
      "text/plain": [
       "('3', '51')"
      ]
     },
     "execution_count": 16,
     "metadata": {},
     "output_type": "execute_result"
    }
   ],
   "source": [
    "x[1]"
   ]
  },
  {
   "cell_type": "code",
   "execution_count": 47,
   "metadata": {},
   "outputs": [
    {
     "data": {
      "text/plain": [
       "{'3', '6'}"
      ]
     },
     "execution_count": 47,
     "metadata": {},
     "output_type": "execute_result"
    }
   ],
   "source": [
    "graph['51']"
   ]
  },
  {
   "cell_type": "markdown",
   "metadata": {},
   "source": [
    "# Depth-First Search"
   ]
  },
  {
   "cell_type": "code",
   "execution_count": 48,
   "metadata": {},
   "outputs": [],
   "source": [
    "def depth(graph, start):\n",
    "    visited=set()\n",
    "    stack = [start]\n",
    "    while stack:\n",
    "        vertex = stack.pop()\n",
    "        print(\"vertex= \" , vertex)\n",
    "        if vertex not in visited:\n",
    "            visited.add(vertex)\n",
    "            stack.extend(graph[vertex] - visited)\n",
    "            print(\"visited=\" , visited)\n",
    "            print(\"stack=\",stack)\n",
    "    return visited"
   ]
  },
  {
   "cell_type": "code",
   "execution_count": 49,
   "metadata": {},
   "outputs": [
    {
     "name": "stdout",
     "output_type": "stream",
     "text": [
      "vertex=  51\n",
      "visited= {'51'}\n",
      "stack= ['6', '3']\n",
      "vertex=  3\n",
      "visited= {'51', '3'}\n",
      "stack= ['6', '6', '9']\n",
      "vertex=  9\n",
      "visited= {'51', '9', '3'}\n",
      "stack= ['6', '6', '8']\n",
      "vertex=  8\n",
      "visited= {'51', '9', '3', '8'}\n",
      "stack= ['6', '6', '42', '6', '1']\n",
      "vertex=  1\n",
      "visited= {'8', '1', '51', '9', '3'}\n",
      "stack= ['6', '6', '42', '6', '14']\n",
      "vertex=  14\n",
      "visited= {'8', '1', '51', '14', '9', '3'}\n",
      "stack= ['6', '6', '42', '6', '97']\n",
      "vertex=  97\n",
      "visited= {'97', '8', '1', '51', '14', '9', '3'}\n",
      "stack= ['6', '6', '42', '6']\n",
      "vertex=  6\n",
      "visited= {'97', '8', '6', '1', '51', '14', '9', '3'}\n",
      "stack= ['6', '6', '42', '57']\n",
      "vertex=  57\n",
      "visited= {'97', '8', '6', '1', '51', '57', '14', '9', '3'}\n",
      "stack= ['6', '6', '42']\n",
      "vertex=  42\n",
      "visited= {'97', '8', '6', '1', '51', '42', '57', '14', '9', '3'}\n",
      "stack= ['6', '6']\n",
      "vertex=  6\n",
      "vertex=  6\n"
     ]
    },
    {
     "data": {
      "text/plain": [
       "{'1', '14', '3', '42', '51', '57', '6', '8', '9', '97'}"
      ]
     },
     "execution_count": 49,
     "metadata": {},
     "output_type": "execute_result"
    }
   ],
   "source": [
    "depth(graph, '51')"
   ]
  },
  {
   "cell_type": "code",
   "execution_count": 50,
   "metadata": {},
   "outputs": [],
   "source": [
    "def depth_paths(graph, start, goal):\n",
    "    stack = [(start, [start])]\n",
    "    while stack:\n",
    "        (vertex, path) = stack.pop()\n",
    "        for next in graph[vertex] - set(path):\n",
    "            if next == goal:\n",
    "                yield path + [next]\n",
    "            else:\n",
    "                stack.append((next, path + [next]))\n"
   ]
  },
  {
   "cell_type": "code",
   "execution_count": 51,
   "metadata": {},
   "outputs": [
    {
     "data": {
      "text/plain": [
       "[['51', '3', '9', '8', '1'],\n",
       " ['51', '3', '6', '8', '1'],\n",
       " ['51', '6', '8', '1'],\n",
       " ['51', '6', '3', '9', '8', '1']]"
      ]
     },
     "execution_count": 51,
     "metadata": {},
     "output_type": "execute_result"
    }
   ],
   "source": [
    "list(depth_paths(graph, '51', '1'))"
   ]
  },
  {
   "cell_type": "code",
   "execution_count": 52,
   "metadata": {},
   "outputs": [
    {
     "data": {
      "text/plain": [
       "[['51', '6'], ['51', '3', '6'], ['51', '3', '9', '8', '6']]"
      ]
     },
     "execution_count": 52,
     "metadata": {},
     "output_type": "execute_result"
    }
   ],
   "source": [
    "list(depth_paths(graph, '51', '6'))"
   ]
  },
  {
   "cell_type": "code",
   "execution_count": 53,
   "metadata": {},
   "outputs": [
    {
     "data": {
      "text/plain": [
       "[['57', '6']]"
      ]
     },
     "execution_count": 53,
     "metadata": {},
     "output_type": "execute_result"
    }
   ],
   "source": [
    "list(depth_paths(graph, '57', '6'))"
   ]
  },
  {
   "cell_type": "code",
   "execution_count": 54,
   "metadata": {},
   "outputs": [
    {
     "data": {
      "text/plain": [
       "[['3', '9', '8', '1', '14', '97'],\n",
       " ['3', '6', '8', '1', '14', '97'],\n",
       " ['3', '51', '6', '8', '1', '14', '97']]"
      ]
     },
     "execution_count": 54,
     "metadata": {},
     "output_type": "execute_result"
    }
   ],
   "source": [
    "list(depth_paths(graph, '3', '97'))"
   ]
  },
  {
   "cell_type": "markdown",
   "metadata": {},
   "source": [
    "# Breath-First Search"
   ]
  },
  {
   "cell_type": "code",
   "execution_count": 55,
   "metadata": {},
   "outputs": [],
   "source": [
    "def breath(graph, start):\n",
    "    visited= set()\n",
    "    stack = [start]\n",
    "    while stack:\n",
    "        vertex = stack.pop(0)\n",
    "        print(\"vertex= \" , vertex)\n",
    "        if vertex not in visited:\n",
    "            visited.add(vertex)\n",
    "            stack.extend(graph[vertex] - visited)\n",
    "            print(\"visited=\" , visited)\n",
    "            print(\"stack=\",stack)\n",
    "    return visited\n"
   ]
  },
  {
   "cell_type": "code",
   "execution_count": 56,
   "metadata": {},
   "outputs": [
    {
     "name": "stdout",
     "output_type": "stream",
     "text": [
      "vertex=  51\n",
      "visited= {'51'}\n",
      "stack= ['6', '3']\n",
      "vertex=  6\n",
      "visited= {'51', '6'}\n",
      "stack= ['3', '57', '3', '8']\n",
      "vertex=  3\n",
      "visited= {'51', '6', '3'}\n",
      "stack= ['57', '3', '8', '9']\n",
      "vertex=  57\n",
      "visited= {'51', '6', '57', '3'}\n",
      "stack= ['3', '8', '9']\n",
      "vertex=  3\n",
      "vertex=  8\n",
      "visited= {'8', '6', '51', '57', '3'}\n",
      "stack= ['9', '42', '9', '1']\n",
      "vertex=  9\n",
      "visited= {'8', '6', '51', '57', '9', '3'}\n",
      "stack= ['42', '9', '1']\n",
      "vertex=  42\n",
      "visited= {'8', '6', '51', '42', '57', '9', '3'}\n",
      "stack= ['9', '1']\n",
      "vertex=  9\n",
      "vertex=  1\n",
      "visited= {'8', '6', '1', '51', '42', '57', '9', '3'}\n",
      "stack= ['14']\n",
      "vertex=  14\n",
      "visited= {'8', '6', '1', '51', '42', '57', '14', '9', '3'}\n",
      "stack= ['97']\n",
      "vertex=  97\n",
      "visited= {'97', '8', '6', '1', '51', '42', '57', '14', '9', '3'}\n",
      "stack= []\n"
     ]
    },
    {
     "data": {
      "text/plain": [
       "{'1', '14', '3', '42', '51', '57', '6', '8', '9', '97'}"
      ]
     },
     "execution_count": 56,
     "metadata": {},
     "output_type": "execute_result"
    }
   ],
   "source": [
    "breath(graph,'51')"
   ]
  },
  {
   "cell_type": "code",
   "execution_count": 57,
   "metadata": {},
   "outputs": [],
   "source": [
    "def breath_paths(graph, start, goal):\n",
    "    stack = [(start, [start])]\n",
    "    while stack:\n",
    "        (vertex, path) = stack.pop(0)\n",
    "        for next in graph[vertex] - set(path):\n",
    "            if next == goal:\n",
    "                yield path + [next]\n",
    "            else:\n",
    "                stack.append((next, path + [next]))\n"
   ]
  },
  {
   "cell_type": "markdown",
   "metadata": {},
   "source": [
    "# TESTING"
   ]
  },
  {
   "cell_type": "code",
   "execution_count": 58,
   "metadata": {},
   "outputs": [
    {
     "data": {
      "text/plain": [
       "[['9', '8', '1'], ['9', '3', '6', '8', '1'], ['9', '3', '51', '6', '8', '1']]"
      ]
     },
     "execution_count": 58,
     "metadata": {},
     "output_type": "execute_result"
    }
   ],
   "source": [
    "list(breath_paths(graph,'9','1'))"
   ]
  },
  {
   "cell_type": "code",
   "execution_count": 59,
   "metadata": {},
   "outputs": [
    {
     "data": {
      "text/plain": [
       "[['9', '8', '1'], ['9', '3', '6', '8', '1'], ['9', '3', '51', '6', '8', '1']]"
      ]
     },
     "execution_count": 59,
     "metadata": {},
     "output_type": "execute_result"
    }
   ],
   "source": [
    "list(depth_paths(graph, '9', '1'))"
   ]
  },
  {
   "cell_type": "code",
   "execution_count": 60,
   "metadata": {},
   "outputs": [
    {
     "data": {
      "text/plain": [
       "[['3', '6', '8', '1', '14', '97'],\n",
       " ['3', '9', '8', '1', '14', '97'],\n",
       " ['3', '51', '6', '8', '1', '14', '97']]"
      ]
     },
     "execution_count": 60,
     "metadata": {},
     "output_type": "execute_result"
    }
   ],
   "source": [
    "list(breath_paths(graph,'3','97'))"
   ]
  },
  {
   "cell_type": "code",
   "execution_count": 61,
   "metadata": {},
   "outputs": [
    {
     "data": {
      "text/plain": [
       "[['3', '9', '8', '1', '14', '97'],\n",
       " ['3', '6', '8', '1', '14', '97'],\n",
       " ['3', '51', '6', '8', '1', '14', '97']]"
      ]
     },
     "execution_count": 61,
     "metadata": {},
     "output_type": "execute_result"
    }
   ],
   "source": [
    "list(depth_paths(graph, '3', '97'))"
   ]
  },
  {
   "cell_type": "markdown",
   "metadata": {},
   "source": [
    "# GREEDY SEARCH"
   ]
  },
  {
   "cell_type": "code",
   "execution_count": null,
   "metadata": {},
   "outputs": [],
   "source": []
  },
  {
   "cell_type": "code",
   "execution_count": null,
   "metadata": {},
   "outputs": [],
   "source": []
  },
  {
   "cell_type": "code",
   "execution_count": null,
   "metadata": {},
   "outputs": [],
   "source": []
  },
  {
   "cell_type": "code",
   "execution_count": null,
   "metadata": {},
   "outputs": [],
   "source": []
  }
 ],
 "metadata": {
  "kernelspec": {
   "display_name": "Python 3",
   "language": "python",
   "name": "python3"
  },
  "language_info": {
   "codemirror_mode": {
    "name": "ipython",
    "version": 3
   },
   "file_extension": ".py",
   "mimetype": "text/x-python",
   "name": "python",
   "nbconvert_exporter": "python",
   "pygments_lexer": "ipython3",
   "version": "3.6.4"
  }
 },
 "nbformat": 4,
 "nbformat_minor": 2
}
